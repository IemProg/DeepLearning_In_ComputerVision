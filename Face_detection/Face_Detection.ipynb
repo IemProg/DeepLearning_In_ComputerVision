{
  "nbformat": 4,
  "nbformat_minor": 0,
  "metadata": {
    "colab": {
      "name": "Face_Detection.ipynb",
      "version": "0.3.2",
      "provenance": []
    },
    "language_info": {
      "codemirror_mode": {
        "name": "ipython",
        "version": 3
      },
      "file_extension": ".py",
      "mimetype": "text/x-python",
      "name": "python",
      "nbconvert_exporter": "python",
      "pygments_lexer": "ipython3",
      "version": "3.5.2"
    },
    "kernelspec": {
      "display_name": "Python 3",
      "language": "python",
      "name": "python3"
    }
  },
  "cells": [
    {
      "cell_type": "markdown",
      "metadata": {
        "id": "cHO-HJXhuHoH",
        "colab_type": "text"
      },
      "source": [
        "# Face Detection\n",
        "\n",
        "Hello! In this task you will create your own deep face detector.\n",
        "\n",
        "First of all, we need import some useful stuff."
      ]
    },
    {
      "cell_type": "code",
      "metadata": {
        "id": "Z5IZoaiIuHoK",
        "colab_type": "code",
        "colab": {
          "base_uri": "https://localhost:8080/",
          "height": 34
        },
        "outputId": "f082622c-dd14-406e-9ef5-bc77f085ed94"
      },
      "source": [
        "%load_ext autoreload\n",
        "%autoreload 2\n",
        "%pylab inline"
      ],
      "execution_count": 2,
      "outputs": [
        {
          "output_type": "stream",
          "text": [
            "Populating the interactive namespace from numpy and matplotlib\n"
          ],
          "name": "stdout"
        }
      ]
    },
    {
      "cell_type": "markdown",
      "metadata": {
        "id": "uhB6K0RQuHoR",
        "colab_type": "text"
      },
      "source": [
        "Do you have modern Nvidia [GPU](https://en.wikipedia.org/wiki/Graphics_processing_unit)? There is your video-card model in [list](https://developer.nvidia.com/cuda-gpus) and CUDA capability >= 3.0?\n",
        "\n",
        "- Yes. You can use it for fast deep learning! In this work we recommend you use tensorflow backend with GPU. Read [installation notes](https://www.tensorflow.org/install/) with attention to gpu section, install all requirements and then install GPU version `tensorflow-gpu`.\n",
        "- No. CPU is enough for this task, but you have to use only simple model. Read [installation notes](https://www.tensorflow.org/install/) and install CPU version `tensorflow`.\n",
        "\n",
        "Of course, also you should install `keras`, `matplotlib`, `numpy` and `scikit-image`."
      ]
    },
    {
      "cell_type": "code",
      "metadata": {
        "id": "O2enFJZVuHoS",
        "colab_type": "code",
        "colab": {
          "base_uri": "https://localhost:8080/",
          "height": 34
        },
        "outputId": "fc36806f-15e9-4c7a-d11e-0774150d9588"
      },
      "source": [
        "from keras import backend as K"
      ],
      "execution_count": 3,
      "outputs": [
        {
          "output_type": "stream",
          "text": [
            "Using TensorFlow backend.\n"
          ],
          "name": "stderr"
        }
      ]
    },
    {
      "cell_type": "code",
      "metadata": {
        "id": "R5zg_2JouHoV",
        "colab_type": "code",
        "colab": {}
      },
      "source": [
        "from matplotlib import pyplot as plt\n",
        "import numpy as np\n",
        "from skimage import transform"
      ],
      "execution_count": 0,
      "outputs": []
    },
    {
      "cell_type": "code",
      "metadata": {
        "id": "tRnTmRTl2A7q",
        "colab_type": "code",
        "colab": {
          "base_uri": "https://localhost:8080/",
          "height": 122
        },
        "outputId": "384f8320-1e6f-44bb-e38c-5aaf0e1e5477"
      },
      "source": [
        "from google.colab import drive\n",
        "\n",
        "drive.mount('/content/gdrive')"
      ],
      "execution_count": 5,
      "outputs": [
        {
          "output_type": "stream",
          "text": [
            "Go to this URL in a browser: https://accounts.google.com/o/oauth2/auth?client_id=947318989803-6bn6qk8qdgf4n4g3pfee6491hc0brc4i.apps.googleusercontent.com&redirect_uri=urn%3Aietf%3Awg%3Aoauth%3A2.0%3Aoob&scope=email%20https%3A%2F%2Fwww.googleapis.com%2Fauth%2Fdocs.test%20https%3A%2F%2Fwww.googleapis.com%2Fauth%2Fdrive%20https%3A%2F%2Fwww.googleapis.com%2Fauth%2Fdrive.photos.readonly%20https%3A%2F%2Fwww.googleapis.com%2Fauth%2Fpeopleapi.readonly&response_type=code\n",
            "\n",
            "Enter your authorization code:\n",
            "··········\n",
            "Mounted at /content/gdrive\n"
          ],
          "name": "stdout"
        }
      ]
    },
    {
      "cell_type": "code",
      "metadata": {
        "id": "G7IjZPK92bCx",
        "colab_type": "code",
        "colab": {}
      },
      "source": [
        "root_path = '/gdrive/My Drive/Face_Detection'"
      ],
      "execution_count": 0,
      "outputs": []
    },
    {
      "cell_type": "code",
      "metadata": {
        "id": "ZJiClZI12iln",
        "colab_type": "code",
        "colab": {
          "base_uri": "https://localhost:8080/",
          "height": 34
        },
        "outputId": "3a4f2cf7-f3cb-4d49-c498-b5d105dccd8e"
      },
      "source": [
        "cd face-detection/"
      ],
      "execution_count": 12,
      "outputs": [
        {
          "output_type": "stream",
          "text": [
            "/content/gdrive/My Drive/face-detection\n"
          ],
          "name": "stdout"
        }
      ]
    },
    {
      "cell_type": "code",
      "metadata": {
        "id": "1vRyQ6k8uHoX",
        "colab_type": "code",
        "colab": {}
      },
      "source": [
        "from get_data import load_dataset, unpack"
      ],
      "execution_count": 0,
      "outputs": []
    },
    {
      "cell_type": "markdown",
      "metadata": {
        "id": "TAvQgoTWuHoa",
        "colab_type": "text"
      },
      "source": [
        "In this task we use processed [FDDB dataset](http://vis-www.cs.umass.edu/fddb/). Processing defined in file [./prepare_data.ipynb](prepare_data.ipynb) and consists of:\n",
        "\n",
        "1. Extract bboxes from dataset. In base dataset face defined by [ellipsis](http://vis-www.cs.umass.edu/fddb/samples/) that not very useful for basic neural network learning.\n",
        "2. Remove images with big and small faces on one shoot.\n",
        "3. Re-size images to bounding boxes (bboxes) have same size 32 +/- pixels.\n",
        "\n",
        "Each image in train, validation and test datasets have shape (176, 176, 3), but part of this image is black background. Interesting image aligned at top left corner.\n",
        "\n",
        "Bounding boxes define face in image and consist of 5 integer numbers: [image_index, min_row, min_col, max_row, max_col]. Bounding box width and height are 32 +/- 8 pixels wide.\n",
        "\n",
        "`train_bboxes` and `val_bboxes` is a list of bboxes.\n",
        "\n",
        "`train_shapes` and `val_shapes` is a list of interesting image shapes."
      ]
    },
    {
      "cell_type": "code",
      "metadata": {
        "id": "nwFp4Mh2uHob",
        "colab_type": "code",
        "colab": {}
      },
      "source": [
        "# First run will download 30 MB data from github\n",
        "\n",
        "train_images, train_bboxes, train_shapes = load_dataset(\"data\", \"train\")\n",
        "val_images, val_bboxes, val_shapes = load_dataset(\"data\", \"val\")"
      ],
      "execution_count": 0,
      "outputs": []
    },
    {
      "cell_type": "markdown",
      "metadata": {
        "id": "l9zxjZxfuHoe",
        "colab_type": "text"
      },
      "source": [
        "## Prepare data (1 point)\n",
        "\n",
        "For learning we should extract positive and negative samples from image.\n",
        "Positive and negative samples counts should be similar.\n",
        "Every samples should have same size."
      ]
    },
    {
      "cell_type": "code",
      "metadata": {
        "scrolled": true,
        "id": "OlgJurUruHof",
        "colab_type": "code",
        "colab": {
          "base_uri": "https://localhost:8080/",
          "height": 196
        },
        "outputId": "c5f0bc49-96b8-41bc-83a5-f0d31f138dcf"
      },
      "source": [
        "from graph import visualize_bboxes\n",
        "visualize_bboxes(images=train_images,\n",
        "                 true_bboxes=train_bboxes\n",
        "                )"
      ],
      "execution_count": 15,
      "outputs": [
        {
          "output_type": "display_data",
          "data": {
            "image/png": "[encoded data removed]",
            "text/plain": [
              "<Figure size 1080x216 with 5 Axes>"
            ]
          },
          "metadata": {
            "tags": []
          }
        }
      ]
    },
    {
      "cell_type": "markdown",
      "metadata": {
        "id": "SiJiI0LNuHoj",
        "colab_type": "text"
      },
      "source": [
        "Every image can represent multiple faces, so we should extract all faces from every images and crop them to `SAMPLE_SHAPE`. This set of extracted images are named `positive`.\n",
        "\n",
        "Then we chould extract `negative` set. This images should have `SAMPLE_SHAPE` size. Pseudocode for extracting:\n",
        "\n",
        "    negative_collection := []\n",
        "\n",
        "    for i in range(negative_bbox_count):\n",
        "        Select random image.\n",
        "        image_shape := image_shapes[image_index]\n",
        "        image_true_bboxes := true_bboxes[true_bboxes[:, 0] == image_index, 1:]\n",
        "        \n",
        "        for j in TRY_COUNT: # TRY_COUNT is a magic constant, for example, 100\n",
        "            Generate new_bbox within image_shape.\n",
        "            \n",
        "            if new_bbox is negative bbox for image_true_bboxes:\n",
        "                Extract from image, new_bbox and resize to SAMPLE_SIZE negative_sample.\n",
        "                Add negative sample to negative_collection.\n",
        "                Break # for j in TRY_COUNT"
      ]
    },
    {
      "cell_type": "code",
      "metadata": {
        "id": "kK84aAhmuHok",
        "colab_type": "code",
        "colab": {}
      },
      "source": [
        "SAMPLE_SHAPE = (32, 32, 3)"
      ],
      "execution_count": 0,
      "outputs": []
    },
    {
      "cell_type": "code",
      "metadata": {
        "id": "cU7H7KpJuHom",
        "colab_type": "code",
        "colab": {}
      },
      "source": [
        "from scores import iou_score # https://en.wikipedia.org/wiki/Jaccard_index\n",
        "\n",
        "def is_negative_bbox(new_bbox, true_bboxes, eps=1e-1):\n",
        "    \"\"\"Check if new bbox not in true bbox list.\n",
        "    \n",
        "    There bbox is 4 ints [min_row, min_col, max_row, max_col] without image index.\"\"\"\n",
        "    for bbox in true_bboxes:\n",
        "        if iou_score(new_bbox, bbox) >= eps:\n",
        "            return False\n",
        "    return True"
      ],
      "execution_count": 0,
      "outputs": []
    },
    {
      "cell_type": "code",
      "metadata": {
        "id": "Nv4Vu9F0uHoq",
        "colab_type": "code",
        "colab": {}
      },
      "source": [
        "# Write this function\n",
        "def gen_negative_bbox(image_shape, bbox_size, true_bboxes):\n",
        "    \"\"\"Generate negative bbox for image.\"\"\"\n",
        "    height, width = bbox_size\n",
        "    min_row = np.random.choice(image_shape[0] - height)\n",
        "    max_row = min_row + height\n",
        "    \n",
        "    min_col = np.random.choice(image_shape[1] - width)\n",
        "    max_col = min_col + width\n",
        "    return [min_row, min_col, max_row, max_col]\n",
        "      \n",
        "\n",
        "def get_positive_negative(images, true_bboxes, image_shapes, negative_bbox_count=None):\n",
        "    \"\"\"Retrieve positive and negative samples from image.\"\"\"\n",
        "    positive = []\n",
        "    negative = []\n",
        "    image_count = image_shapes.shape[0]\n",
        "    \n",
        "    if negative_bbox_count is None:\n",
        "        negative_bbox_count = len(true_bboxes)\n",
        "    \n",
        "    # Pay attention to the fact that most part of image may be black -\n",
        "    # extract negative samples only from part [0:image_shape[0], 0:image_shape[1]]\n",
        "    \n",
        "    for true_bbox in true_bboxes:\n",
        "      image_index = true_bbox[0]\n",
        "      pos_img = images[image_index][true_bbox[1]:true_bbox[1]+32, true_bbox[2]:true_bbox[2]+32, :]\n",
        "      positive.append(pos_img)\n",
        "    \n",
        "    TRY_COUNT = 100\n",
        "    for i in range(negative_bbox_count):\n",
        "        image_index = np.random.choice(len(images))\n",
        "        image_shape = image_shapes[image_index]\n",
        "        image_true_bboxes = true_bboxes[true_bboxes[:, 0] == image_index, 1:]\n",
        "        \n",
        "        for j in range(TRY_COUNT):\n",
        "            bbox_size = (32, 32)\n",
        "            new_bbox = gen_negative_bbox(image_shape, bbox_size, image_true_bboxes)\n",
        "            if is_negative_bbox(new_bbox, image_true_bboxes):\n",
        "                neg_img = images[image_index][new_bbox[0]:new_bbox[2], new_bbox[1]:new_bbox[3]]\n",
        "                negative.append(neg_img)\n",
        "                break\n",
        "   \n",
        "    return positive, negative"
      ],
      "execution_count": 0,
      "outputs": []
    },
    {
      "cell_type": "code",
      "metadata": {
        "id": "9tPxooMpuHot",
        "colab_type": "code",
        "colab": {}
      },
      "source": [
        "def get_samples(images, true_bboxes, image_shapes):\n",
        "    \"\"\"Usefull samples for learning.\n",
        "    \n",
        "    X - positive and negative samples.\n",
        "    Y - one hot encoded list of zeros and ones. One is positive marker.\n",
        "    \"\"\"\n",
        "    positive, negative = get_positive_negative(images=images, true_bboxes=true_bboxes, \n",
        "                                               image_shapes=image_shapes)\n",
        "    X = positive\n",
        "    Y = [[0, 1]] * len(positive)\n",
        "    \n",
        "    X.extend(negative)\n",
        "    Y.extend([[1, 0]] * len(negative))\n",
        "    \n",
        "    return np.array(X), np.array(Y)"
      ],
      "execution_count": 0,
      "outputs": []
    },
    {
      "cell_type": "markdown",
      "metadata": {
        "id": "Og5vUuM1uHo2",
        "colab_type": "text"
      },
      "source": [
        "Now we can extract samples from images."
      ]
    },
    {
      "cell_type": "code",
      "metadata": {
        "id": "rJctVpLDuHo3",
        "colab_type": "code",
        "colab": {}
      },
      "source": [
        "X_train, Y_train = get_samples(train_images, train_bboxes, train_shapes)\n",
        "X_val, Y_val = get_samples(val_images, val_bboxes, val_shapes)"
      ],
      "execution_count": 0,
      "outputs": []
    },
    {
      "cell_type": "code",
      "metadata": {
        "id": "g9a7xXwYuHo7",
        "colab_type": "code",
        "colab": {
          "base_uri": "https://localhost:8080/",
          "height": 194
        },
        "outputId": "0888a7ba-9ea5-4c09-8074-56e6602867bd"
      },
      "source": [
        "# There we should see faces\n",
        "from graph import visualize_samples\n",
        "visualize_samples(X_train[Y_train[:, 1] == 1])"
      ],
      "execution_count": 27,
      "outputs": [
        {
          "output_type": "display_data",
          "data": {
            "image/png": "[encoded data removed]",
            "text/plain": [
              "<Figure size 1080x216 with 5 Axes>"
            ]
          },
          "metadata": {
            "tags": []
          }
        }
      ]
    },
    {
      "cell_type": "code",
      "metadata": {
        "id": "LvSHCL4guHo-",
        "colab_type": "code",
        "colab": {
          "base_uri": "https://localhost:8080/",
          "height": 194
        },
        "outputId": "a5ea1117-3850-4e85-d746-6f7daa7aceb2"
      },
      "source": [
        "# There we shouldn't see faces\n",
        "visualize_samples(X_train[Y_train[:, 1] == 0])"
      ],
      "execution_count": 28,
      "outputs": [
        {
          "output_type": "display_data",
          "data": {
            "image/png": "[encoded data removed]",
            "text/plain": [
              "<Figure size 1080x216 with 5 Axes>"
            ]
          },
          "metadata": {
            "tags": []
          }
        }
      ]
    },
    {
      "cell_type": "markdown",
      "metadata": {
        "id": "un3UFrBjuHpD",
        "colab_type": "text"
      },
      "source": [
        "## Classifier training (3 points)\n",
        "\n",
        "First of all, we should train face classifier that checks if face represented on sample."
      ]
    },
    {
      "cell_type": "code",
      "metadata": {
        "id": "2DkbEb3duHpE",
        "colab_type": "code",
        "colab": {}
      },
      "source": [
        "BATCH_SIZE = 64"
      ],
      "execution_count": 0,
      "outputs": []
    },
    {
      "cell_type": "markdown",
      "metadata": {
        "id": "JPzhBVlLuHpH",
        "colab_type": "text"
      },
      "source": [
        "### Image augmentation\n",
        "\n",
        "Important thing in deep learning is augmentation. Sometimes, if your model are complex and cool, you can increase quality by using good augmentation.\n",
        "\n",
        "Keras provide good [images preprocessing and augmentation](https://keras.io/preprocessing/image/). This preprocessing executes online (on the fly) while learning.\n",
        "\n",
        "Of course, if you want using samplewise and featurewise center and std normalization you should run this transformation on predict stage. But you will use this classifier to fully convolution detector, in this case such transformation quite complicated, and we don't recommend use them in classifier.\n",
        "\n",
        "For heavy augmentation you can use library [imgaug](https://github.com/aleju/imgaug). If you need, you can use this library in offline manner (simple way) and online manner (hard way). However, hard way is not so hard: you only have to write [python generator](https://wiki.python.org/moin/Generators), which returns image batches, and pass it to [fit_generator](https://keras.io/models/model/#fit_generator)"
      ]
    },
    {
      "cell_type": "code",
      "metadata": {
        "id": "CwREb_B7uHpH",
        "colab_type": "code",
        "colab": {}
      },
      "source": [
        "from keras.preprocessing.image import ImageDataGenerator # Usefull thing. Read the doc.\n",
        "\n",
        "datagen = ImageDataGenerator(horizontal_flip=True,\n",
        "                             width_shift_range=0.2,\n",
        "                             height_shift_range=0.2,\n",
        "                             zoom_range=0.1,\n",
        "                            )\n",
        "datagen.fit(X_train)"
      ],
      "execution_count": 0,
      "outputs": []
    },
    {
      "cell_type": "markdown",
      "metadata": {
        "id": "rQdVw7JTuHpK",
        "colab_type": "text"
      },
      "source": [
        "### Fitting classifier\n",
        "\n",
        "For fitting you can use one of Keras optimizer algorithms. [Good overview](http://ruder.io/optimizing-gradient-descent/)\n",
        "\n",
        "To choose best learning rate strategy you should read about EarlyStopping and ReduceLROnPlateau or LearningRateScheduler on [callbacks](https://keras.io/callbacks/) page of keras documentation, it's very useful in deep learning.\n",
        "\n",
        "If you repeat architecture from some paper, you can find information about good optimizer algorithm and learning rate strategy in this paper. For example, every [keras application](https://keras.io/applications/) has link to paper, that describes suitable learning procedure for this specific architecture."
      ]
    },
    {
      "cell_type": "code",
      "metadata": {
        "id": "G6otfadfuHpL",
        "colab_type": "code",
        "colab": {}
      },
      "source": [
        "import os.path\n",
        "from keras.optimizers import Adam\n",
        "# Very usefull, pay attention\n",
        "from keras.callbacks import ModelCheckpoint, EarlyStopping, ReduceLROnPlateau, LearningRateScheduler\n",
        "\n",
        "from graph import plot_history\n",
        "\n",
        "\n",
        "def fit(model, datagen, X_train, Y_train, X_val, Y_val, model_name=None, output_dir=\"data/checkpoints\", class_weight=None, epochs=50, lr=0.001, verbose=False):\n",
        "    \"\"\"Fit model.\n",
        "    \n",
        "    You can edit this function anyhow.\n",
        "    \"\"\"\n",
        "    \n",
        "    if verbose:\n",
        "        model.summary()\n",
        "\n",
        "    model.compile(optimizer=Adam(lr=lr), # You can use another optimizer\n",
        "                  loss='categorical_crossentropy',\n",
        "                  metrics=['accuracy'])\n",
        "    \n",
        "    \n",
        "    history = model.fit_generator(datagen.flow(X_train, Y_train, batch_size=BATCH_SIZE),\n",
        "                                  validation_data=(datagen.standardize(X_val), Y_val),\n",
        "                                  epochs=epochs, steps_per_epoch=len(X_train) // BATCH_SIZE,\n",
        "                                  callbacks=[ModelCheckpoint(os.path.join(output_dir, \"{model_name}\").format(model_name=model_name) + \"-{epoch:02d}-{val_loss:.2f}.hdf5\", save_best_only=True),\n",
        "                                            ] if model_name is not None else [],\n",
        "                                  class_weight=class_weight,\n",
        "                      \n",
        "                                 )  # starts training\n",
        "    \n",
        "    plot_history(history)"
      ],
      "execution_count": 0,
      "outputs": []
    },
    {
      "cell_type": "markdown",
      "metadata": {
        "id": "CCWJiQ-luHpO",
        "colab_type": "text"
      },
      "source": [
        "#### (first point out of three)\n",
        "\n",
        "![lenet architecture](lenet_architecture.png)\n",
        "LeCun, Y., Bottou, L., Bengio, Y. and Haffner, P., 1998. Gradient-based learning applied to document recognition. Proceedings of the IEEE, 86(11), pp.2278-2324.\n",
        "\n",
        "Of course, you can use any another architecture, if want. Main thing is classification quality of your model.\n",
        "\n",
        "Acceptable validation accuracy for this task is 0.92."
      ]
    },
    {
      "cell_type": "code",
      "metadata": {
        "id": "xNyAezhSuHpQ",
        "colab_type": "code",
        "colab": {}
      },
      "source": [
        "from keras.models import Model, Sequential\n",
        "from keras.layers import Flatten, Dense, Activation, Input, Dropout, Activation, BatchNormalization\n",
        "from keras.layers import Conv2D, MaxPooling2D, GlobalAveragePooling2D, AveragePooling2D\n",
        "\n",
        "def generate_model(sample_shape):\n",
        "    # Classification model\n",
        "    # You can start from LeNet architecture\n",
        "    x = inputs = Input(shape=sample_shape)\n",
        "\n",
        "    # Write code here\n",
        "    #model = Sequential()\n",
        "    x = Conv2D(filters =6, kernel_size = (5,5) , strides=(1,1), padding='valid', activation='tanh', input_shape=(32, 32, 3))(x)\n",
        "    x = AveragePooling2D(pool_size=(2, 2), strides=(2,2), padding='valid')(x)\n",
        "    x = Conv2D(filters =16, kernel_size = (5,5) , strides=(1,1), padding='valid', activation='tanh')(x)\n",
        "    x = AveragePooling2D(pool_size=(2, 2), strides=(2,2), padding='valid')(x)\n",
        "    \n",
        "    x = Conv2D(120, kernel_size=(5, 5), strides=(1, 1), activation='tanh', padding='valid')(x)\n",
        "    x = Flatten()(x)\n",
        "    \n",
        "    x = Dense(84, activation='tanh')(x)\n",
        "              \n",
        "    # This creates a model\n",
        "    predictions = Dense(2, activation='softmax')(x)\n",
        "    return Model(inputs=inputs, outputs=predictions)\n",
        "\n",
        "model = generate_model(SAMPLE_SHAPE)"
      ],
      "execution_count": 0,
      "outputs": []
    },
    {
      "cell_type": "code",
      "metadata": {
        "id": "UDghqeC5TcH2",
        "colab_type": "code",
        "colab": {
          "base_uri": "https://localhost:8080/",
          "height": 459
        },
        "outputId": "66d51c86-d4a7-4379-ff00-7c1aff8c3ac5"
      },
      "source": [
        "print(model.summary())"
      ],
      "execution_count": 51,
      "outputs": [
        {
          "output_type": "stream",
          "text": [
            "_________________________________________________________________\n",
            "Layer (type)                 Output Shape              Param #   \n",
            "=================================================================\n",
            "input_9 (InputLayer)         (None, 32, 32, 3)         0         \n",
            "_________________________________________________________________\n",
            "conv2d_20 (Conv2D)           (None, 28, 28, 6)         456       \n",
            "_________________________________________________________________\n",
            "average_pooling2d_13 (Averag (None, 14, 14, 6)         0         \n",
            "_________________________________________________________________\n",
            "conv2d_21 (Conv2D)           (None, 10, 10, 16)        2416      \n",
            "_________________________________________________________________\n",
            "average_pooling2d_14 (Averag (None, 5, 5, 16)          0         \n",
            "_________________________________________________________________\n",
            "conv2d_22 (Conv2D)           (None, 1, 1, 120)         48120     \n",
            "_________________________________________________________________\n",
            "flatten_6 (Flatten)          (None, 120)               0         \n",
            "_________________________________________________________________\n",
            "dense_11 (Dense)             (None, 84)                10164     \n",
            "_________________________________________________________________\n",
            "dense_12 (Dense)             (None, 2)                 170       \n",
            "=================================================================\n",
            "Total params: 61,326\n",
            "Trainable params: 61,326\n",
            "Non-trainable params: 0\n",
            "_________________________________________________________________\n",
            "None\n"
          ],
          "name": "stdout"
        }
      ]
    },
    {
      "cell_type": "markdown",
      "metadata": {
        "id": "5zN60ivJuHpU",
        "colab_type": "text"
      },
      "source": [
        "#### Fit the model (second point out of three)\n",
        "\n",
        "If you doesn't have fast video-card suitable for deep learning, you can first check neural network modifications with small value of parameter `epochs`, for example, 10, and then after selecting best model increase this parameter.\n",
        "Fitting on CPU can be long, we suggest do it at bedtime.\n",
        "\n",
        "Don't forget change model name."
      ]
    },
    {
      "cell_type": "code",
      "metadata": {
        "id": "51-b6uCHWgXL",
        "colab_type": "code",
        "colab": {}
      },
      "source": [
        "X_train = X_train.astype('float32')\n",
        "X_val = X_val.astype('float32')"
      ],
      "execution_count": 0,
      "outputs": []
    },
    {
      "cell_type": "code",
      "metadata": {
        "id": "Vp7BsdPuuHpV",
        "colab_type": "code",
        "colab": {}
      },
      "source": [
        "# Attention: Windows implementation may cause an error here. In that case use model_name=None.\n",
        "fit(model_name=\"myModelLeNet\", model=model, datagen=datagen, X_train=X_train, X_val=X_val, Y_train=Y_train, Y_val=Y_val)"
      ],
      "execution_count": 0,
      "outputs": []
    },
    {
      "cell_type": "markdown",
      "metadata": {
        "id": "rHc5719euHpb",
        "colab_type": "text"
      },
      "source": [
        "#### (third point out of three)\n",
        "\n",
        "After learning model weights saves in folder `data/checkpoints/`.\n",
        "Use `model.load_weights(fname)` to load best weights.\n",
        "\n",
        "If you use Windows and Model Checkpoint doesn't work on your configuration, you should implement [your own Callback](https://keras.io/callbacks/#create-a-callback) to save best weights in memory and then load it back."
      ]
    },
    {
      "cell_type": "code",
      "metadata": {
        "id": "khPXhyz4uHpc",
        "colab_type": "code",
        "colab": {}
      },
      "source": [
        "def get_checkpoint():\n",
        "    return \"data/checkpoints/lenet-24-0.06.hdf5\"\n",
        "\n",
        "model.load_weights(get_checkpoint())"
      ],
      "execution_count": 0,
      "outputs": []
    },
    {
      "cell_type": "markdown",
      "metadata": {
        "id": "4Vh7LQhQuHpe",
        "colab_type": "text"
      },
      "source": [
        "## Detection\n",
        "\n",
        "If you have prepared classification architecture with high validation score, you can use this architecture for detection.\n",
        "\n",
        "Convert classification architecture to fully convolution neural network (FCNN), that returns heatmap of activation.\n",
        "\n",
        "### Detector model or sliding window (1 point)\n",
        "\n",
        "Now you should replace fully-connected layers with $1 \\times 1$ convolution layers.\n",
        "\n",
        "Every fully connected layer perform operation $f(Wx + b)$, where $f(\\cdot)$ is nonlinear activation function, $x$ is layer input, $W$ and $b$ is layer weights. This operation can be emulated with $1 \\times 1$ convolution with activation function $f(\\cdot)$, that perform exactly same operation $f(Wx + b)$.\n",
        "\n",
        "If there is `Flatten` layer with $n \\times k$ input size before fully connected layers, convolution should have same $n \\times k$ input size.\n",
        "Multiple fully connected layers can be replaced with convolution layers sequence.\n",
        "\n",
        "After replace all fully connected layers with convolution layers, we get fully convolution network. If input shape is equal to input size of previous network, output will have size $1 \\times 1$. But if we increase input shape, output shape automatically will be increased. For example, if convolution step of previous network strides 4 pixels, increase input size with 100 pixels along all axis makes increase outputsize with 25 values along all axis. We got activation map of classifier without necessary extract samples from image and multiple calculate low-level features.\n",
        "\n",
        "In total:\n",
        "1. $1 \\times 1$ convolution layer is equivalent of fully connected layer.\n",
        "2. $1 \\times 1$ convolution layers can be used to get activation map of classification network in \"sliding window\" manner.\n",
        "\n",
        "We propose replace last fully connected layer with softmax actiovation to convolution layer with linear activation.It will be usefull to find good treshold. Of course, you can use softmax activation.\n",
        "\n",
        "#### Example of replace cnn head:\n",
        "\n",
        "##### Head before convert\n",
        "\n",
        "![before replace image](before_convert.png)\n",
        "\n",
        "##### Head after convert\n",
        "\n",
        "![before replace image](after_convert.png)\n",
        "\n",
        "On this images displayed only head. `InputLayer` should be replaced with convolution part exit.\n",
        "Before convert network head takes fifty $8 \\times 8$ feature maps and returns two values: probability of negative and positive classes. This output can be considered as activation map with size $1 \\times 1$.\n",
        "\n",
        "If input have size $8 \\times 8$, output after convert would have $1 \\times 1$ size, but input size is $44 \\times 44$.\n",
        "After convert network head returns one $37 \\times 37$ activation map."
      ]
    },
    {
      "cell_type": "code",
      "metadata": {
        "id": "PqOuchStuHpi",
        "colab_type": "code",
        "colab": {}
      },
      "source": [
        "# FCNN\n",
        "\n",
        "IMAGE_SHAPE = (176, 176, 3)\n",
        "\n",
        "def generate_fcnn_model(image_shape):\n",
        "    \"\"\"After model compilation input size cannot be changed.\n",
        "    \n",
        "    So, we need create a function to have ability to change size later.\n",
        "    \"\"\"\n",
        "    x = inputs = Input(image_shape)\n",
        "\n",
        "    # Write code here\n",
        "    x = Conv2D(32, (5, 5), activation='relu', padding='same')(x)\n",
        "    x = MaxPooling2D((2, 2))(x)\n",
        "    x = Conv2D(32, (5, 5), activation='relu', padding='same')(x)\n",
        "    x = MaxPooling2D((2, 2))(x)\n",
        "\n",
        "    x = Conv2D(128, (8, 8), activation='relu')(x)\n",
        "    x = Dropout(0.25)(x)\n",
        "    x = Conv2D(64, (1, 1), activation='relu')(x)\n",
        "    x = Dropout(0.25)(x)\n",
        "    \n",
        "    # This creates a model\n",
        "    predictions = Conv2D(2, (1, 1), activation='linear')(x)\n",
        "    return Model(inputs=inputs, outputs=predictions)\n",
        "\n",
        "fcnn_model = generate_fcnn_model(IMAGE_SHAPE)"
      ],
      "execution_count": 0,
      "outputs": []
    },
    {
      "cell_type": "markdown",
      "metadata": {
        "id": "eSmzDyFZuHpm",
        "colab_type": "text"
      },
      "source": [
        "#### (1 point)\n",
        "\n",
        "Then you should write function that copy weights from classification model to fully convolution model.\n",
        "Convolution weights may be copied without modification, fully-connected layer weights should be reshaped before copy.\n",
        "\n",
        "Pay attention to last layer."
      ]
    },
    {
      "cell_type": "code",
      "metadata": {
        "id": "HypB9rD8uHpn",
        "colab_type": "code",
        "colab": {}
      },
      "source": [
        "def copy_weights(base_model, fcnn_model):\n",
        "    \"\"\"Set FCNN weights from base model.\n",
        "    \"\"\"\n",
        "    \n",
        "    new_fcnn_weights = []\n",
        "    prev_fcnn_weights = fcnn_model.get_weights()\n",
        "    prev_base_weights = base_model.get_weights()\n",
        "    \n",
        "    for prev_fcnn_weight, prev_base_weight in zip(prev_fcnn_weights, prev_base_weights):\n",
        "        new_fcnn_weights.append(prev_base_weight.reshape(prev_fcnn_weight.shape))\n",
        "        \n",
        "    fcnn_model.set_weights(new_fcnn_weights)\n",
        "\n",
        "copy_weights(base_model=model, fcnn_model=fcnn_model)"
      ],
      "execution_count": 0,
      "outputs": []
    },
    {
      "cell_type": "markdown",
      "metadata": {
        "id": "NHhZDY4JuHpq",
        "colab_type": "text"
      },
      "source": [
        "### Model visualization"
      ]
    },
    {
      "cell_type": "code",
      "metadata": {
        "id": "AebcyAU-uHpr",
        "colab_type": "code",
        "colab": {}
      },
      "source": [
        "from graph import visualize_heatmap"
      ],
      "execution_count": 0,
      "outputs": []
    },
    {
      "cell_type": "code",
      "metadata": {
        "id": "0NtS_BkSuHp0",
        "colab_type": "code",
        "colab": {}
      },
      "source": [
        "predictions = fcnn_model.predict(np.array(val_images))\n",
        "visualize_heatmap(val_images, predictions[:, :, :, 1])"
      ],
      "execution_count": 0,
      "outputs": []
    },
    {
      "cell_type": "markdown",
      "metadata": {
        "id": "Jw3O2rLguHp3",
        "colab_type": "text"
      },
      "source": [
        "### Detector (1 point)\n",
        "\n",
        "First detector part is getting bboxes and decision function.\n",
        "Greater decision function indicates better detector confidence.\n",
        "\n",
        "This function should return pred_bboxes and decision_function:\n",
        "\n",
        "- `pred bboxes` is list of 5 int tuples like `true bboxes`: `[image_index, min_row, min_col, max_row, max_col]`.\n",
        "- `decision function` is confidence of detector for every pred bbox: list of float values, `len(decision function) == len(pred bboxes)` \n",
        " \n",
        "We propose resize image to `IMAGE_SHAPE` size, find faces on resized image with `SAMPLE_SHAPE` size and then resize them back."
      ]
    },
    {
      "cell_type": "code",
      "metadata": {
        "id": "z__74Mp-uHp4",
        "colab_type": "code",
        "colab": {}
      },
      "source": [
        "# Detection\n",
        "from skimage.feature import peak_local_max\n",
        "\n",
        "def get_bboxes_and_decision_function(fcnn_model, images, image_shapes):      \n",
        "    cropped_images = np.array([transform.resize(image, IMAGE_SHAPE, mode=\"reflect\")  if image.shape != IMAGE_SHAPE else image for image in images])\n",
        "    pred_bboxes, decision_function = [], []\n",
        "   \n",
        "    # Predict\n",
        "    predictions = fcnn_model.predict(cropped_images)\n",
        "\n",
        "    for i in range(len(predictions)):\n",
        "        img_shape = image_shapes[i]\n",
        "        local_max_list = peak_local_max(predictions[i][:,:,1], num_peaks=5, min_distance=3, exclude_border=False)\n",
        "        for local_max_orig in local_max_list:\n",
        "            local_max = ((local_max_orig + 2)*176/37).astype(int)\n",
        "            \n",
        "            if local_max[0] < img_shape[0] and local_max[1] < img_shape[1]:\n",
        "                bbox = [i] + [local_max[0]-16,local_max[1]-16,local_max[0]+16,local_max[1]+16]\n",
        "                \n",
        "                pred_bboxes.append(bbox)\n",
        "                decision_function.append(predictions[i, local_max_orig[0], local_max_orig[1], 1])\n",
        "        \n",
        "    return pred_bboxes, decision_function"
      ],
      "execution_count": 0,
      "outputs": []
    },
    {
      "cell_type": "markdown",
      "metadata": {
        "id": "mAUEdC2IuHp6",
        "colab_type": "text"
      },
      "source": [
        "#### Detector visualization"
      ]
    },
    {
      "cell_type": "code",
      "metadata": {
        "id": "tsaQVX-juHp7",
        "colab_type": "code",
        "colab": {}
      },
      "source": [
        "pred_bboxes, decision_function = get_bboxes_and_decision_function(fcnn_model=fcnn_model, images=val_images, image_shapes=val_shapes)\n",
        "\n",
        "visualize_bboxes(images=val_images,\n",
        "                 pred_bboxes=pred_bboxes,\n",
        "                 true_bboxes=val_bboxes,\n",
        "                 decision_function=decision_function\n",
        "                )"
      ],
      "execution_count": 0,
      "outputs": []
    },
    {
      "cell_type": "markdown",
      "metadata": {
        "id": "lshpdZYfuHqA",
        "colab_type": "text"
      },
      "source": [
        "## Detector score (1 point)\n",
        "\n",
        "Write [precision and recall](https://en.wikipedia.org/wiki/Precision_and_recall) graph.\n",
        "\n",
        "You can use function `best_match` to extract matching between prediction and ground truth, false positive and false negative samples. Pseudo-code for calculation precision and recall graph:\n",
        "    \n",
        "    # Initialization for first step threshold := -inf\n",
        "    tn := 0 # We haven't any positive sample\n",
        "    fn := |false_negative| # But some faces wasn't been detected\n",
        "    tp := |true_bboxes| # All true bboxes have been caught\n",
        "    fp := |false_positive| # But also some false positive samples have been caught\n",
        "    \n",
        "    Sort decision_function and pred_bboxes with order defined by decision_function\n",
        "    y_true := List of answers for \"Is the bbox have matching in y_true?\" for every bbox in pred_bboxes\n",
        "    \n",
        "    for y_on_this_step in y_true:\n",
        "        # Now we increase threshold, so some predicted bboxes makes positive.\n",
        "        # If y_t is True then the bbox is true positive else bbox is false positive\n",
        "        # So we should\n",
        "        Update tp, tn, fp, fn with attention to y_on_this_step\n",
        "        \n",
        "        Add precision and recall point calculated by formula through tp, tn, fp, fn on this step\n",
        "        Threshold for this point is decision function on this step."
      ]
    },
    {
      "cell_type": "code",
      "metadata": {
        "id": "-DQ__7K9uHqC",
        "colab_type": "code",
        "colab": {}
      },
      "source": [
        "from scores import best_match\n",
        "from graph import plot_precision_recall\n",
        "\n",
        "def precision_recall_curve(pred_bboxes, true_bboxes, decision_function):\n",
        "    precision, recall, thresholds = [], [], []\n",
        "    \n",
        "    threshold = min(decision_function) - 1\n",
        "    max_th = max(decision_function) + 1\n",
        "    num_steps = 100\n",
        "    th_step = (max_th - threshold)/num_steps\n",
        "\n",
        "    sorted_boxes = [[x]+y for y,x in sorted(zip(pred_bboxes,decision_function),key=lambda pair:pair[1])]\n",
        "    \n",
        "    for step in range(num_steps):        \n",
        "        pred_bboxes_th = [x[1:] for x in sorted_boxes if x[0]>threshold]\n",
        "        if len(pred_bboxes_th) > 0:\n",
        "            matched, false_negative, false_positive = best_match(pred_bboxes_th, true_bboxes, decision_function)\n",
        "        else:\n",
        "            break\n",
        "        \n",
        "        prec = len(matched)/(len(matched)+len(false_positive))\n",
        "        rec = len(matched)/(len(matched)+len(false_negative))\n",
        "        \n",
        "        thresholds.append(threshold)\n",
        "        recall.append(rec)\n",
        "        precision.append(prec)\n",
        "        threshold += th_step"
      ],
      "execution_count": 0,
      "outputs": []
    },
    {
      "cell_type": "code",
      "metadata": {
        "id": "3JXVNA23uHqG",
        "colab_type": "code",
        "colab": {}
      },
      "source": [
        "precision, recall, thresholds = precision_recall_curve(pred_bboxes=pred_bboxes, true_bboxes=val_bboxes, decision_function=decision_function)\n",
        "plot_precision_recall(precision=precision, recall=recall)"
      ],
      "execution_count": 0,
      "outputs": []
    },
    {
      "cell_type": "markdown",
      "metadata": {
        "id": "1dYuCbAUuHqK",
        "colab_type": "text"
      },
      "source": [
        "### Threshold (1 point)\n",
        "\n",
        "Next step in detector creating is select threshold for decision_function.\n",
        "Every possible threshold presents point on recall-precision graph.\n",
        "\n",
        "Select threshold for `recall=0.85`."
      ]
    },
    {
      "cell_type": "code",
      "metadata": {
        "id": "MQvk6PuWuHqL",
        "colab_type": "code",
        "colab": {}
      },
      "source": [
        "def get_threshold(thresholds, recall):\n",
        "    return thresholds[np.argmax(np.asarray(recall) <= 0.85)]\n",
        "\n",
        "THRESHOLD = get_threshold(thresholds, recall)"
      ],
      "execution_count": 0,
      "outputs": []
    },
    {
      "cell_type": "code",
      "metadata": {
        "id": "6y6Kl2fauHqN",
        "colab_type": "code",
        "colab": {}
      },
      "source": [
        "def detect(fcnn_model, images, image_shapes, threshold, return_decision=True):\n",
        "    \"\"\"Get bboxes with decision_function not less then threshold.\"\"\"\n",
        "    pred_bboxes, decision_function = get_bboxes_and_decision_function(fcnn_model, images, image_shapes)   \n",
        "    result, result_decision = [], []\n",
        "    \n",
        "    for i in range(len(pred_bboxes)):\n",
        "        if decision_function[i] >= threshold:\n",
        "            result.append(pred_bboxes[i])\n",
        "            result_decision.append(decision_function[i])\n",
        "    \n",
        "    if return_decision:\n",
        "        return result, result_decision\n",
        "    else:\n",
        "        return result"
      ],
      "execution_count": 0,
      "outputs": []
    },
    {
      "cell_type": "code",
      "metadata": {
        "id": "9FAFmN92uHqQ",
        "colab_type": "code",
        "colab": {}
      },
      "source": [
        "pred_bboxes, decision_function = detect(fcnn_model=fcnn_model, images=val_images, image_shapes=val_shapes, threshold=THRESHOLD, return_decision=True)\n",
        "\n",
        "visualize_bboxes(images=val_images,\n",
        "                 pred_bboxes=pred_bboxes,\n",
        "                 true_bboxes=val_bboxes,\n",
        "                 decision_function=decision_function\n",
        "                )\n",
        "\n",
        "precision, recall, thresholds = precision_recall_curve(pred_bboxes=pred_bboxes, true_bboxes=val_bboxes, decision_function=decision_function)\n",
        "plot_precision_recall(precision=precision, recall=recall)"
      ],
      "execution_count": 0,
      "outputs": []
    },
    {
      "cell_type": "markdown",
      "metadata": {
        "id": "AnryhZCVuHqV",
        "colab_type": "text"
      },
      "source": [
        "## Test dataset (1 point)\n",
        "\n",
        "Last detector preparation step is testing.\n",
        "\n",
        "Attention: to avoid over-fitting, after testing algorithm you should run [./prepare_data.ipynb](prepare_data.ipynb), and start all fitting from beginning.\n",
        "\n",
        "Detection score (in graph header) should be 0.85 or greater."
      ]
    },
    {
      "cell_type": "code",
      "metadata": {
        "id": "3pUOTGtduHqW",
        "colab_type": "code",
        "colab": {}
      },
      "source": [
        "test_images, test_bboxes, test_shapes = load_dataset(\"data\", \"test\")\n",
        "\n",
        "# We test get_bboxes_and_decision_function becouse we want pay attention to all recall values\n",
        "pred_bboxes, decision_function = get_bboxes_and_decision_function(fcnn_model=fcnn_model, images=test_images, image_shapes=test_shapes)\n",
        "\n",
        "visualize_bboxes(images=test_images,\n",
        "                 pred_bboxes=pred_bboxes,\n",
        "                 true_bboxes=test_bboxes,\n",
        "                 decision_function=decision_function\n",
        "                )\n",
        "\n",
        "precision, recall, threshold = precision_recall_curve(pred_bboxes=pred_bboxes, true_bboxes=test_bboxes, decision_function=decision_function)\n",
        "plot_precision_recall(precision=precision, recall=recall)"
      ],
      "execution_count": 0,
      "outputs": []
    },
    {
      "cell_type": "markdown",
      "metadata": {
        "id": "gn3DH5njuHqY",
        "colab_type": "text"
      },
      "source": [
        "## Optional tasks\n",
        "\n",
        "### Real image dataset\n",
        "\n",
        "Test your algorithm on original (not scaled) data.\n",
        "Visualize bboxes and plot precision-recall curve."
      ]
    },
    {
      "cell_type": "code",
      "metadata": {
        "id": "LnaSyl6ruHqY",
        "colab_type": "code",
        "colab": {}
      },
      "source": [
        "# First run will download 523 MB data from github\n",
        "\n",
        "original_images, original_bboxes, original_shapes = load_dataset(\"data\", \"original\")"
      ],
      "execution_count": 0,
      "outputs": []
    },
    {
      "cell_type": "code",
      "metadata": {
        "id": "tuosPCKouHqa",
        "colab_type": "code",
        "colab": {}
      },
      "source": [
        "# Write code here\n",
        "# ...\n"
      ],
      "execution_count": 0,
      "outputs": []
    },
    {
      "cell_type": "markdown",
      "metadata": {
        "id": "olr-t0BYuHqc",
        "colab_type": "text"
      },
      "source": [
        "## Hard negative mining\n",
        "\n",
        "Upgrade the score with [hard negative mining](https://www.reddit.com/r/computervision/comments/2ggc5l/what_is_hard_negative_mining_and_how_is_it/).\n",
        "\n",
        "A hard negative is when you take that falsely detected patch, and explicitly create a negative example out of that patch, and add that negative to your training set. When you retrain your classifier, it should perform better with this extra knowledge, and not make as many false positives."
      ]
    },
    {
      "cell_type": "code",
      "metadata": {
        "id": "KOxK1h-auHqd",
        "colab_type": "code",
        "colab": {}
      },
      "source": [
        "# Write this function\n",
        "def hard_negative(train_images, image_shapes, train_bboxes, X_val, Y_val, base_model, fcnn_model):\n",
        "    pass"
      ],
      "execution_count": 0,
      "outputs": []
    },
    {
      "cell_type": "code",
      "metadata": {
        "id": "Krou_KY-uHqg",
        "colab_type": "code",
        "colab": {}
      },
      "source": [
        "hard_negative(train_images=train_images, image_shapes=train_shapes, train_bboxes=train_bboxes, X_val=X_val, Y_val=Y_val, base_model=model, fcnn_model=fcnn_model)"
      ],
      "execution_count": 0,
      "outputs": []
    },
    {
      "cell_type": "code",
      "metadata": {
        "id": "HWWYtCueuHqj",
        "colab_type": "code",
        "colab": {}
      },
      "source": [
        "model.load_weights(\"data/checkpoints/...\")"
      ],
      "execution_count": 0,
      "outputs": []
    },
    {
      "cell_type": "code",
      "metadata": {
        "id": "Xil6mIfMuHqm",
        "colab_type": "code",
        "colab": {}
      },
      "source": [
        "copy_weights(base_model=model, fcnn_model=fcnn_model)\n",
        "\n",
        "pred_bboxes, decision_function = get_bboxes_and_decision_function(fcnn_model=fcnn_model, images=val_images, image_shapes=val_shapes)\n",
        "\n",
        "visualize_bboxes(images=val_images,\n",
        "                 pred_bboxes=pred_bboxes,\n",
        "                 true_bboxes=val_bboxes,\n",
        "                 decision_function=decision_function\n",
        "                )\n",
        "\n",
        "precision, recall, thresholds = precision_recall_curve(pred_bboxes=pred_bboxes, true_bboxes=val_bboxes, decision_function=decision_function)\n",
        "plot_precision_recall(precision=precision, recall=recall)"
      ],
      "execution_count": 0,
      "outputs": []
    },
    {
      "cell_type": "markdown",
      "metadata": {
        "collapsed": true,
        "id": "6zbSBo_4uHqp",
        "colab_type": "text"
      },
      "source": [
        "### Multi scale detector\n",
        "\n",
        "Write and test detector with [pyramid representation][pyramid].\n",
        "[pyramid]: https://en.wikipedia.org/wiki/Pyramid_(image_processing)\n",
        "\n",
        "1. Resize images to predefined scales.\n",
        "2. Run detector with different scales.\n",
        "3. Apply non-maximum supression to detection on different scales.\n",
        "\n",
        "References:\n",
        "1. [E. H. Adelson,C. H. Anderson, J. R. Bergen, P. J. Burt, J. M. Ogden: Pyramid methods in image processing](http://persci.mit.edu/pub_pdfs/RCA84.pdf)\n",
        "2. [PETER J. BURT, EDWARD H. ADELSON: The Laplacian Pyramid as a Compact Image Code](http://persci.mit.edu/pub_pdfs/pyramid83.pdf)"
      ]
    },
    {
      "cell_type": "code",
      "metadata": {
        "id": "fdluE_K9uHqq",
        "colab_type": "code",
        "colab": {}
      },
      "source": [
        "def multiscale_detector(fcnn_model, images, image_shapes):\n",
        "    return []"
      ],
      "execution_count": 0,
      "outputs": []
    },
    {
      "cell_type": "markdown",
      "metadata": {
        "collapsed": true,
        "id": "oS_blMBouHqv",
        "colab_type": "text"
      },
      "source": [
        "### Next  step\n",
        "\n",
        "Next steps in deep learning detection are R-CNN, Faster R-CNN and SSD architectures.\n",
        "This architecture realization is quite complex.\n",
        "For this reason the task doesn't cover them, but you can find the articles in the internet."
      ]
    }
  ]
}